{
  "nbformat": 4,
  "nbformat_minor": 0,
  "metadata": {
    "colab": {
      "provenance": []
    },
    "kernelspec": {
      "name": "python3",
      "display_name": "Python 3"
    },
    "language_info": {
      "name": "python"
    }
  },
  "cells": [
    {
      "cell_type": "code",
      "execution_count": 1,
      "metadata": {
        "colab": {
          "base_uri": "https://localhost:8080/"
        },
        "id": "bEvkKoXV0Cpg",
        "outputId": "a2cac24c-8db0-442c-8b88-45aaeb199a4d"
      },
      "outputs": [
        {
          "output_type": "stream",
          "name": "stdout",
          "text": [
            "Collecting python-aiml\n",
            "  Downloading python-aiml-0.9.3.zip (2.1 MB)\n",
            "\u001b[?25l     \u001b[90m━━━━━━━━━━━━━━━━━━━━━━━━━━━━━━━━━━━━━━━━\u001b[0m \u001b[32m0.0/2.1 MB\u001b[0m \u001b[31m?\u001b[0m eta \u001b[36m-:--:--\u001b[0m\r\u001b[2K     \u001b[91m━━━━━\u001b[0m\u001b[90m╺\u001b[0m\u001b[90m━━━━━━━━━━━━━━━━━━━━━━━━━━━━━━━━━━\u001b[0m \u001b[32m0.3/2.1 MB\u001b[0m \u001b[31m9.2 MB/s\u001b[0m eta \u001b[36m0:00:01\u001b[0m\r\u001b[2K     \u001b[91m━━━━━━━━━━━━━━━━━━━━━━━━━━━━━━━━━━━━━━━\u001b[0m\u001b[91m╸\u001b[0m \u001b[32m2.1/2.1 MB\u001b[0m \u001b[31m29.8 MB/s\u001b[0m eta \u001b[36m0:00:01\u001b[0m\r\u001b[2K     \u001b[90m━━━━━━━━━━━━━━━━━━━━━━━━━━━━━━━━━━━━━━━━\u001b[0m \u001b[32m2.1/2.1 MB\u001b[0m \u001b[31m20.4 MB/s\u001b[0m eta \u001b[36m0:00:00\u001b[0m\n",
            "\u001b[?25h  Preparing metadata (setup.py) ... \u001b[?25l\u001b[?25hdone\n",
            "Requirement already satisfied: setuptools in /usr/local/lib/python3.10/dist-packages (from python-aiml) (71.0.4)\n",
            "Building wheels for collected packages: python-aiml\n",
            "  Building wheel for python-aiml (setup.py) ... \u001b[?25l\u001b[?25hdone\n",
            "  Created wheel for python-aiml: filename=python_aiml-0.9.3-py3-none-any.whl size=2122486 sha256=a8920d606ffa722c6ab17c0a698a901b0bc0d547b2c53abedbecbb3798a5e7db\n",
            "  Stored in directory: /root/.cache/pip/wheels/0d/62/6e/815540b0e885fca8b9fe6ba52b09baae4937e2bde900615f70\n",
            "Successfully built python-aiml\n",
            "Installing collected packages: python-aiml\n",
            "Successfully installed python-aiml-0.9.3\n",
            "Loading patient_query.aiml...done (0.00 seconds)\n",
            "Chatbot: Hello! How can I assist you today?\n",
            "You: MY HEAD HURTS\n",
            "Chatbot: It sounds like you might have a headache. Try resting, and if it continues, seek medical advice.\n",
            "You: I AM SUFFERING FROM COLD\n",
            "Chatbot: You might be suffering from flu. Go to Doctor.\n",
            "You: BYE\n",
            "Chatbot: Goodbye! Take care.\n"
          ]
        }
      ],
      "source": [
        "# Install pyAIML\n",
        "!pip install python-aiml\n",
        "\n",
        "import aiml\n",
        "\n",
        "# Create the Kernel (the brain of the bot)\n",
        "bot = aiml.Kernel()\n",
        "\n",
        "# Load AIML file\n",
        "bot.learn(\"patient_query.aiml\")\n",
        "\n",
        "# Start conversation\n",
        "print(\"Chatbot: Hello! How can I assist you today?\")\n",
        "\n",
        "# Chat loop\n",
        "while True:\n",
        "    user_input = input(\"You: \")\n",
        "    if user_input.strip().upper() == \"BYE\":\n",
        "        print(\"Chatbot: Goodbye! Take care.\")\n",
        "        break\n",
        "    else:\n",
        "        response = bot.respond(user_input.upper())\n",
        "        print(f\"Chatbot: {response}\")\n"
      ]
    }
  ]
}