{
  "nbformat": 4,
  "nbformat_minor": 0,
  "metadata": {
    "colab": {
      "provenance": []
    },
    "kernelspec": {
      "name": "python3",
      "display_name": "Python 3"
    },
    "language_info": {
      "name": "python"
    }
  },
  "cells": [
    {
      "cell_type": "code",
      "execution_count": 1,
      "metadata": {
        "colab": {
          "base_uri": "https://localhost:8080/"
        },
        "id": "Y6p71f6HMAbz",
        "outputId": "96f0c1f4-d583-432e-f7e6-e92eb0efaeb3"
      },
      "outputs": [
        {
          "output_type": "stream",
          "name": "stdout",
          "text": [
            "Requirement already satisfied: scikit-fuzzy in /usr/local/lib/python3.10/dist-packages (0.5.0)\n",
            "The scholarship percentage awarded is: 85.56%\n"
          ]
        }
      ],
      "source": [
        "# Install scikit-fuzzy library if you don't have it\n",
        "!pip install scikit-fuzzy\n",
        "\n",
        "\n",
        "import numpy as np\n",
        "import skfuzzy as fuzz\n",
        "from skfuzzy import control as ctrl\n",
        "\n",
        "# Step 1: Define inputs and output\n",
        "marks = ctrl.Antecedent(np.arange(0, 101, 1), 'marks')\n",
        "income = ctrl.Antecedent(np.arange(0, 100001, 1000), 'income')\n",
        "scholarship = ctrl.Consequent(np.arange(0, 101, 1), 'scholarship')\n",
        "\n",
        "# Step 2: Define membership functions for marks\n",
        "marks['poor'] = fuzz.trimf(marks.universe, [0, 0, 50])\n",
        "marks['average'] = fuzz.trimf(marks.universe, [40, 60, 80])\n",
        "marks['excellent'] = fuzz.trimf(marks.universe, [70, 100, 100])\n",
        "\n",
        "# Define membership functions for income\n",
        "income['low'] = fuzz.trimf(income.universe, [0, 0, 30000])\n",
        "income['medium'] = fuzz.trimf(income.universe, [20000, 50000, 80000])\n",
        "income['high'] = fuzz.trimf(income.universe, [60000, 100000, 100000])\n",
        "\n",
        "# Define membership functions for scholarship\n",
        "scholarship['low'] = fuzz.trimf(scholarship.universe, [0, 0, 50])\n",
        "scholarship['medium'] = fuzz.trimf(scholarship.universe, [30, 50, 70])\n",
        "scholarship['high'] = fuzz.trimf(scholarship.universe, [60, 100, 100])\n",
        "\n",
        "# Step 3: Define rules\n",
        "rules = [\n",
        "    ctrl.Rule(marks['poor'] & income['low'], scholarship['medium']),\n",
        "    ctrl.Rule(marks['poor'] & income['medium'], scholarship['low']),\n",
        "    ctrl.Rule(marks['poor'] & income['high'], scholarship['low']),\n",
        "    ctrl.Rule(marks['average'] & income['low'], scholarship['high']),\n",
        "    ctrl.Rule(marks['average'] & income['medium'], scholarship['medium']),\n",
        "    ctrl.Rule(marks['average'] & income['high'], scholarship['low']),\n",
        "    ctrl.Rule(marks['excellent'] & income['low'], scholarship['high']),\n",
        "    ctrl.Rule(marks['excellent'] & income['medium'], scholarship['medium']),\n",
        "    ctrl.Rule(marks['excellent'] & income['high'], scholarship['medium'])\n",
        "]\n",
        "\n",
        "# Step 4: Create the control system and simulation\n",
        "scholarship_ctrl = ctrl.ControlSystem(rules)\n",
        "scholarship_sim = ctrl.ControlSystemSimulation(scholarship_ctrl)\n",
        "\n",
        "# Step 5: Set input values\n",
        "marks_input = 95  # Example marks\n",
        "income_input = 10000  # Example income\n",
        "\n",
        "# Provide inputs to the system\n",
        "scholarship_sim.input['marks'] = marks_input\n",
        "scholarship_sim.input['income'] = income_input\n",
        "\n",
        "# Calculate the result\n",
        "scholarship_sim.compute()\n",
        "\n",
        "# Output the result\n",
        "print(f\"The scholarship percentage awarded is: {scholarship_sim.output['scholarship']:.2f}%\")\n"
      ]
    }
  ]
}