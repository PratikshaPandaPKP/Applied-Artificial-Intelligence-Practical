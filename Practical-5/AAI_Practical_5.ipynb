{
  "nbformat": 4,
  "nbformat_minor": 0,
  "metadata": {
    "colab": {
      "provenance": []
    },
    "kernelspec": {
      "name": "python3",
      "display_name": "Python 3"
    },
    "language_info": {
      "name": "python"
    }
  },
  "cells": [
    {
      "cell_type": "code",
      "source": [
        "# Define the rules in a dictionary\n",
        "rules = {\n",
        "    \"fever and cough\": \"You might have the flu.\",\n",
        "    \"fever and rash\": \"You might have chickenpox.\",\n",
        "    \"fever and sore throat\": \"You might have strep throat.\",\n",
        "    \"fever and body ache\": \"You might have dengue fever.\",\n",
        "    \"cough and sore throat\": \"You might have a common cold.\",\n",
        "    \"cough and rash\": \"You might have a common cold.\",\n",
        "    \"cough and body ache\": \"You might have a common cold.\"\n",
        "}\n",
        "\n",
        "# Function to take symptoms and diagnose based on rules\n",
        "def diagnose(symptoms):\n",
        "    # Convert the list of symptoms into a string\n",
        "    symptom_string = \" and \".join(symptoms)\n",
        "\n",
        "    # Check if symptoms match any rule\n",
        "    if symptom_string in rules:\n",
        "        return rules[symptom_string]\n",
        "    else:\n",
        "        return \"Sorry, I don't have a diagnosis for those symptoms.\"\n",
        "\n",
        "# Main function to take input from the user\n",
        "def main():\n",
        "    print(\"Welcome to the Rule-Based Diagnosis System!\")\n",
        "    print(\"Please enter your symptoms from the following list: fever, cough, sore throat, rash, body ache\")\n",
        "\n",
        "    # Get symptoms from user\n",
        "    user_symptoms = input(\"Enter your symptoms separated by a comma (e.g., fever, cough): \").split(\", \")\n",
        "\n",
        "    # Get the diagnosis\n",
        "    result = diagnose(user_symptoms)\n",
        "\n",
        "    # Display the result\n",
        "    print(\"\\nDiagnosis: \" + result)\n",
        "\n",
        "# Run the system\n",
        "if __name__ == \"__main__\":\n",
        "    main()\n"
      ],
      "metadata": {
        "colab": {
          "base_uri": "https://localhost:8080/"
        },
        "id": "_ADWf4YS8hNS",
        "outputId": "513d61c8-bdc9-4fbc-fa35-318d76dc198f"
      },
      "execution_count": 13,
      "outputs": [
        {
          "output_type": "stream",
          "name": "stdout",
          "text": [
            "Welcome to the Rule-Based Diagnosis System!\n",
            "Please enter your symptoms from the following list: fever, cough, sore throat, rash, body ache\n",
            "Enter your symptoms separated by a comma (e.g., fever, cough): cough, rash\n",
            "\n",
            "Diagnosis: You might have a common cold.\n"
          ]
        }
      ]
    }
  ]
}