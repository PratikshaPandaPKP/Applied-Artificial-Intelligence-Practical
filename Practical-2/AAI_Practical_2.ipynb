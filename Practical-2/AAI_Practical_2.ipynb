{
  "nbformat": 4,
  "nbformat_minor": 0,
  "metadata": {
    "colab": {
      "provenance": []
    },
    "kernelspec": {
      "name": "python3",
      "display_name": "Python 3"
    },
    "language_info": {
      "name": "python"
    }
  },
  "cells": [
    {
      "cell_type": "code",
      "source": [
        "!pip install python-aiml"
      ],
      "metadata": {
        "colab": {
          "base_uri": "https://localhost:8080/"
        },
        "id": "8aYm8b-auan0",
        "outputId": "d264daa9-ce5c-4399-8f1f-3cb4bc12c3b4"
      },
      "execution_count": 1,
      "outputs": [
        {
          "output_type": "stream",
          "name": "stdout",
          "text": [
            "Collecting python-aiml\n",
            "  Downloading python-aiml-0.9.3.zip (2.1 MB)\n",
            "\u001b[2K     \u001b[90m━━━━━━━━━━━━━━━━━━━━━━━━━━━━━━━━━━━━━━━━\u001b[0m \u001b[32m2.1/2.1 MB\u001b[0m \u001b[31m7.2 MB/s\u001b[0m eta \u001b[36m0:00:00\u001b[0m\n",
            "\u001b[?25h  Preparing metadata (setup.py) ... \u001b[?25l\u001b[?25hdone\n",
            "Requirement already satisfied: setuptools in /usr/local/lib/python3.10/dist-packages (from python-aiml) (71.0.4)\n",
            "Building wheels for collected packages: python-aiml\n",
            "  Building wheel for python-aiml (setup.py) ... \u001b[?25l\u001b[?25hdone\n",
            "  Created wheel for python-aiml: filename=python_aiml-0.9.3-py3-none-any.whl size=2122486 sha256=1ecdbf25c34553f142bdea020fcf6fa4613dc507a37bcdcbd4afe37452fb42a0\n",
            "  Stored in directory: /root/.cache/pip/wheels/0d/62/6e/815540b0e885fca8b9fe6ba52b09baae4937e2bde900615f70\n",
            "Successfully built python-aiml\n",
            "Installing collected packages: python-aiml\n",
            "Successfully installed python-aiml-0.9.3\n"
          ]
        }
      ]
    },
    {
      "cell_type": "code",
      "source": [
        "import aiml\n",
        "import os\n",
        "\n",
        "# Create the kernel (chatbot engine)\n",
        "kernel = aiml.Kernel()\n",
        "\n",
        "# Reload the updated AIML file\n",
        "if os.path.isfile(\"bot_brain.brn\"):\n",
        "    kernel.loadBrain(\"bot_brain.brn\")\n",
        "else:\n",
        "    kernel.learn(\"bot.aiml\")\n",
        "    kernel.saveBrain(\"bot_brain.brn\")\n",
        "\n",
        "# Start interacting with the bot\n",
        "while True:\n",
        "    message = input(\"You: \")\n",
        "    if message.lower() == \"exit\":\n",
        "        break\n",
        "    response = kernel.respond(message)\n",
        "    print(\"Bot:\", response)\n",
        "    if message.lower() == \"exit\" or message.lower() == \"bye\":\n",
        "        print(\"Bot: Goodbye!\")\n",
        "        break\n"
      ],
      "metadata": {
        "colab": {
          "base_uri": "https://localhost:8080/"
        },
        "id": "g9LjjRzmuhV2",
        "outputId": "74bfd724-5faa-45d8-ad87-9a6c8f941300"
      },
      "execution_count": 2,
      "outputs": [
        {
          "output_type": "stream",
          "name": "stdout",
          "text": [
            "Loading bot.aiml...done (0.00 seconds)\n",
            "Saving brain to bot_brain.brn...done (0.00 seconds)\n",
            "You: Hi\n",
            "Bot: Hello! How are you?\n",
            "You: Who are you?\n",
            "Bot: I am an AI created to assist you.\n",
            "You: Whats your name \n",
            "Bot: Sorry, I don't understand that.\n",
            "You: WHAT IS YOUR NAME\n",
            "Bot: My name is AI Bot.\n",
            "You: bye\n",
            "Bot: Goodbye! Have a great day!\n",
            "Bot: Goodbye!\n"
          ]
        }
      ]
    }
  ]
}