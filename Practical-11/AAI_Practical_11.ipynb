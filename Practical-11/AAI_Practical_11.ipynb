{
  "nbformat": 4,
  "nbformat_minor": 0,
  "metadata": {
    "colab": {
      "provenance": []
    },
    "kernelspec": {
      "name": "python3",
      "display_name": "Python 3"
    },
    "language_info": {
      "name": "python"
    }
  },
  "cells": [
    {
      "cell_type": "code",
      "execution_count": 19,
      "metadata": {
        "colab": {
          "base_uri": "https://localhost:8080/"
        },
        "id": "x8GtDx6lplof",
        "outputId": "e8ff54a1-c1d8-47b2-befc-a15ca246dd94"
      },
      "outputs": [
        {
          "output_type": "stream",
          "name": "stdout",
          "text": [
            "Generation 1: Best individual: [1, 1, 1, 1, 1], Fitness: 961\n",
            "Generation 2: Best individual: [1, 1, 1, 1, 1], Fitness: 961\n",
            "Generation 3: Best individual: [1, 1, 1, 1, 1], Fitness: 961\n",
            "Generation 4: Best individual: [1, 1, 1, 1, 0], Fitness: 900\n",
            "Generation 5: Best individual: [1, 1, 1, 1, 0], Fitness: 900\n",
            "Generation 6: Best individual: [1, 1, 1, 1, 1], Fitness: 961\n",
            "Generation 7: Best individual: [1, 1, 1, 1, 1], Fitness: 961\n",
            "Generation 8: Best individual: [1, 1, 1, 1, 1], Fitness: 961\n",
            "Generation 9: Best individual: [1, 1, 1, 1, 1], Fitness: 961\n",
            "Generation 10: Best individual: [1, 1, 1, 1, 1], Fitness: 961\n",
            "\n",
            "Best solution found: [1, 1, 1, 1, 1], Fitness: 961\n"
          ]
        }
      ],
      "source": [
        "import random\n",
        "\n",
        "# Fitness function\n",
        "def fitness(individual):\n",
        "    # Convert binary string to integer and return the fitness value\n",
        "    x = int(''.join(map(str, individual)), 2)\n",
        "    return x**2\n",
        "\n",
        "# Create an individual\n",
        "def create_individual(length):\n",
        "    return [random.randint(0, 1) for _ in range(length)]\n",
        "\n",
        "# Create an initial population\n",
        "def create_population(pop_size, length):\n",
        "    return [create_individual(length) for _ in range(pop_size)]\n",
        "\n",
        "# Selection (Roulette Wheel)\n",
        "def selection(population, fitnesses):\n",
        "    total_fitness = sum(fitnesses)\n",
        "    probs = [fit / total_fitness for fit in fitnesses]\n",
        "    return population[random.choices(range(len(population)), probs)[0]]\n",
        "\n",
        "# Crossover (Single-point crossover)\n",
        "def crossover(parent1, parent2):\n",
        "    point = random.randint(1, len(parent1) - 1)\n",
        "    child1 = parent1[:point] + parent2[point:]\n",
        "    child2 = parent2[:point] + parent1[point:]\n",
        "    return child1, child2\n",
        "\n",
        "# Mutation (Flip a random bit)\n",
        "def mutation(individual, mutation_rate):\n",
        "    for i in range(len(individual)):\n",
        "        if random.random() < mutation_rate:\n",
        "            individual[i] = 1 - individual[i]  # Flip bit\n",
        "\n",
        "# Genetic Algorithm\n",
        "def genetic_algorithm(pop_size, gene_length, generations, mutation_rate):\n",
        "    population = create_population(pop_size, gene_length)\n",
        "\n",
        "    for gen in range(generations):\n",
        "        # Evaluate fitness for the entire population\n",
        "        fitnesses = [fitness(ind) for ind in population]\n",
        "\n",
        "        # Create the next generation\n",
        "        next_gen = []\n",
        "        for _ in range(pop_size // 2):\n",
        "            parent1 = selection(population, fitnesses)\n",
        "            parent2 = selection(population, fitnesses)\n",
        "            child1, child2 = crossover(parent1, parent2)\n",
        "            mutation(child1, mutation_rate)\n",
        "            mutation(child2, mutation_rate)\n",
        "            next_gen.extend([child1, child2])\n",
        "\n",
        "        population = next_gen\n",
        "\n",
        "        # Find and print the best individual in the current generation\n",
        "        best_individual = max(population, key=fitness)\n",
        "        print(f\"Generation {gen+1}: Best individual: {best_individual}, Fitness: {fitness(best_individual)}\")\n",
        "\n",
        "    return max(population, key=fitness)\n",
        "\n",
        "# Parameters\n",
        "population_size = 10\n",
        "gene_length = 5  # Number of bits (can represent integers from 0 to 31)\n",
        "generations = 10\n",
        "mutation_rate = 0.1\n",
        "\n",
        "# Run the Genetic Algorithm\n",
        "best_solution = genetic_algorithm(population_size, gene_length, generations, mutation_rate)\n",
        "print(f\"\\nBest solution found: {best_solution}, Fitness: {fitness(best_solution)}\")\n"
      ]
    }
  ]
}