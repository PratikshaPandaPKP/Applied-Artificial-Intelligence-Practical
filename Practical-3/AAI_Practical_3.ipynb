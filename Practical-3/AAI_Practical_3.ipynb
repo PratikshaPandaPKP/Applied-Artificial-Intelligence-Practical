{
  "nbformat": 4,
  "nbformat_minor": 0,
  "metadata": {
    "colab": {
      "provenance": []
    },
    "kernelspec": {
      "name": "python3",
      "display_name": "Python 3"
    },
    "language_info": {
      "name": "python"
    }
  },
  "cells": [
    {
      "cell_type": "code",
      "source": [
        "# Bayes' Theorem implementation\n",
        "\n",
        "def bayes_theorem(p_a, p_b_given_a, p_b):\n",
        "    # P(A|B) = (P(B|A) * P(A)) / P(B)\n",
        "    p_a_given_b = (p_b_given_a * p_a) / p_b\n",
        "    return p_a_given_b\n",
        "\n",
        "# Example usage:\n",
        "\n",
        "# P(A) = 0.3 (Probability of event A)\n",
        "# P(B|A) = 0.7 (Probability of event B given that A is true)\n",
        "# P(B) = 0.5 (Probability of event B)\n",
        "\n",
        "p_a = 0.3\n",
        "p_b_given_a = 0.9\n",
        "p_b = 0.5\n",
        "\n",
        "# Calculate P(A|B)\n",
        "result = bayes_theorem(p_a, p_b_given_a, p_b)\n",
        "\n",
        "print(f\"Probability of A given B: {result:.2f}\")\n"
      ],
      "metadata": {
        "colab": {
          "base_uri": "https://localhost:8080/"
        },
        "id": "jVoaHQZtaWmF",
        "outputId": "710f99dc-cb9f-4e5c-9f78-7223531ee472"
      },
      "execution_count": 16,
      "outputs": [
        {
          "output_type": "stream",
          "name": "stdout",
          "text": [
            "Probability of A given B: 0.54\n"
          ]
        }
      ]
    }
  ]
}